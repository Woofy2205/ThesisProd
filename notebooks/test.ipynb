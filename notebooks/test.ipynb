{
 "cells": [
  {
   "cell_type": "code",
   "execution_count": 1,
   "metadata": {
    "vscode": {
     "languageId": "powershell"
    }
   },
   "outputs": [
    {
     "name": "stdout",
     "output_type": "stream",
     "text": [
      "d:\\Project\\ThesisProd\n"
     ]
    }
   ],
   "source": [
    "cd .."
   ]
  },
  {
   "cell_type": "code",
   "execution_count": 2,
   "metadata": {},
   "outputs": [
    {
     "name": "stdout",
     "output_type": "stream",
     "text": [
      "Custom LLM initialized with model: gpt-3.5-turbo\n",
      "Custom LLM initialized with model: gpt-3.5-turbo\n"
     ]
    }
   ],
   "source": [
    "import os\n",
    "import time\n",
    "import numpy as np\n",
    "\n",
    "from dotenv import load_dotenv\n",
    "from typing import Any, List, Dict, Callable, Union, Optional, Tuple, Literal\n",
    "\n",
    "from core.llm.AssistantLLM import AssistantBot\n",
    "from core.ingestion.preprocessing.hyde.HyDe import HyDETransformer\n",
    "from core.ingestion.preprocessing.multistep.MultiStep import MultiStepTransformer"
   ]
  },
  {
   "cell_type": "code",
   "execution_count": 3,
   "metadata": {},
   "outputs": [
    {
     "name": "stdout",
     "output_type": "stream",
     "text": [
      "[[\"2. What is the main question being asked in 'Hello, how are you?'?\", \"3. How can one respond to the question 'Hello, how are you?'?\"], ['2. How do individuals define their own purpose in life?', '3. How can one find meaning and fulfillment in their life?']]\n"
     ]
    }
   ],
   "source": [
    "transformer = MultiStepTransformer()\n",
    "response = transformer.transform(text=[[\"Hello, how are you?\", \"What is the purpose of life?\"]])\n",
    "print(response)"
   ]
  }
 ],
 "metadata": {
  "kernelspec": {
   "display_name": "rag",
   "language": "python",
   "name": "python3"
  },
  "language_info": {
   "codemirror_mode": {
    "name": "ipython",
    "version": 3
   },
   "file_extension": ".py",
   "mimetype": "text/x-python",
   "name": "python",
   "nbconvert_exporter": "python",
   "pygments_lexer": "ipython3",
   "version": "3.12.7"
  }
 },
 "nbformat": 4,
 "nbformat_minor": 2
}
