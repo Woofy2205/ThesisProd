{
 "cells": [
  {
   "cell_type": "code",
   "execution_count": 1,
   "metadata": {
    "vscode": {
     "languageId": "powershell"
    }
   },
   "outputs": [
    {
     "name": "stdout",
     "output_type": "stream",
     "text": [
      "d:\\Project\\ThesisProd\n"
     ]
    }
   ],
   "source": [
    "cd .."
   ]
  },
  {
   "cell_type": "code",
   "execution_count": 2,
   "metadata": {},
   "outputs": [],
   "source": [
    "import os\n",
    "import time\n",
    "import numpy as np\n",
    "\n",
    "from dotenv import load_dotenv\n",
    "from typing import Any, List, Dict, Callable, Union, Optional, Tuple, Literal\n",
    "\n",
    "from core.llm.TeacherLLM import TeacherBot"
   ]
  },
  {
   "cell_type": "code",
   "execution_count": 3,
   "metadata": {},
   "outputs": [
    {
     "name": "stdout",
     "output_type": "stream",
     "text": [
      "Custom LLM initialized with model: gpt-3.5-turbo\n"
     ]
    }
   ],
   "source": [
    "llm = TeacherBot()"
   ]
  },
  {
   "cell_type": "code",
   "execution_count": 4,
   "metadata": {},
   "outputs": [],
   "source": [
    "context = \"In Machine Learning, there occurs a process of analyzing data for building or training models. It is just everywhere; from Amazon product recommendations to self-driven cars, it holds great value throughout. As per the latest research, the global machine-learning market is expected to grow by 43% by 2024. This revolution has enhanced the demand for machine learning professionals to a great extent. AI and machine learning jobs have observed a significant growth rate of 75% in the past four years, and the industry is growing continuously. A career in the Machine learning domain offers job satisfaction, excellent growth, insanely high salary, but it is a complex and challenging process. \""
   ]
  },
  {
   "cell_type": "code",
   "execution_count": null,
   "metadata": {},
   "outputs": [],
   "source": [
    "respond = llm.create_question(context = context, num_questions = 2, total_options = 6, num_correct_options= 2)"
   ]
  },
  {
   "cell_type": "code",
   "execution_count": 6,
   "metadata": {},
   "outputs": [
    {
     "name": "stdout",
     "output_type": "stream",
     "text": [
      "[['Q1: What is one of the benefits of pursuing a career in Machine Learning? ', 'A. Job satisfaction. ', 'B. Low growth opportunities. ', 'C. Limited demand. ', 'D. Low salary. ', 'Answer: A. '], ['Q2: What is one of the challenges associated with a career in Machine Learning? ', 'A. Low demand for professionals. ', 'B. Easy and simple process. ', 'C. Insanely high salary. ', 'D. Complexity. ', 'Answer: D. ']]\n"
     ]
    }
   ],
   "source": [
    "print(respond)"
   ]
  },
  {
   "cell_type": "code",
   "execution_count": 7,
   "metadata": {},
   "outputs": [
    {
     "data": {
      "text/plain": [
       "list"
      ]
     },
     "execution_count": 7,
     "metadata": {},
     "output_type": "execute_result"
    }
   ],
   "source": [
    "type(respond)"
   ]
  },
  {
   "cell_type": "code",
   "execution_count": 8,
   "metadata": {},
   "outputs": [
    {
     "name": "stdout",
     "output_type": "stream",
     "text": [
      "Q1: What is one of the benefits of pursuing a career in Machine Learning? \n",
      "\n",
      "A. Job satisfaction. \n",
      "\n",
      "B. Low growth opportunities. \n",
      "\n",
      "C. Limited demand. \n",
      "\n",
      "D. Low salary. \n",
      "\n",
      "Answer: A. \n",
      "\n",
      "Q2: What is one of the challenges associated with a career in Machine Learning? \n",
      "\n",
      "A. Low demand for professionals. \n",
      "\n",
      "B. Easy and simple process. \n",
      "\n",
      "C. Insanely high salary. \n",
      "\n",
      "D. Complexity. \n",
      "\n",
      "Answer: D. \n",
      "\n"
     ]
    }
   ],
   "source": [
    "for i in range(len(respond)):\n",
    "\tfor j in range(len(respond[i])):\n",
    "\t\tprint(respond[i][j] + \"\\n\")"
   ]
  }
 ],
 "metadata": {
  "kernelspec": {
   "display_name": "rag",
   "language": "python",
   "name": "python3"
  },
  "language_info": {
   "codemirror_mode": {
    "name": "ipython",
    "version": 3
   },
   "file_extension": ".py",
   "mimetype": "text/x-python",
   "name": "python",
   "nbconvert_exporter": "python",
   "pygments_lexer": "ipython3",
   "version": "3.12.7"
  }
 },
 "nbformat": 4,
 "nbformat_minor": 2
}
