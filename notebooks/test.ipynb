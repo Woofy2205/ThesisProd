{
 "cells": [
  {
   "cell_type": "code",
   "execution_count": 1,
   "metadata": {
    "vscode": {
     "languageId": "powershell"
    }
   },
   "outputs": [
    {
     "name": "stdout",
     "output_type": "stream",
     "text": [
      "d:\\Project\\ThesisProd\n"
     ]
    }
   ],
   "source": [
    "cd .."
   ]
  },
  {
   "cell_type": "code",
   "execution_count": 2,
   "metadata": {},
   "outputs": [
    {
     "name": "stderr",
     "output_type": "stream",
     "text": [
      "d:\\Administrator\\anaconda3\\envs\\rag\\Lib\\site-packages\\tqdm\\auto.py:21: TqdmWarning: IProgress not found. Please update jupyter and ipywidgets. See https://ipywidgets.readthedocs.io/en/stable/user_install.html\n",
      "  from .autonotebook import tqdm as notebook_tqdm\n"
     ]
    },
    {
     "name": "stdout",
     "output_type": "stream",
     "text": [
      "Custom LLM initialized with model: gpt-3.5-turbo\n"
     ]
    }
   ],
   "source": [
    "import os\n",
    "import sys\n",
    "\n",
    "import gradio as gr\n",
    "\n",
    "from dotenv import load_dotenv\n",
    "from core.retriever.Retriever import Retriever\n",
    "from core.ingestion.preprocessing.storage.FaissStore import FaissStore\n",
    "from core.llm.TeacherLLM import TeacherBot\n",
    "from core.llm.AssistantLLM import AssistantBot\n",
    "\n",
    "# Load environment variables from a .env file\n",
    "load_dotenv()\n",
    "# Set the OpenAI API key environment variable\n",
    "os.environ[\"OPENAI_API_KEY\"] = os.getenv('OPENAI_API_KEY')"
   ]
  },
  {
   "cell_type": "code",
   "execution_count": 3,
   "metadata": {},
   "outputs": [
    {
     "data": {
      "text/plain": [
       "True"
      ]
     },
     "execution_count": 3,
     "metadata": {},
     "output_type": "execute_result"
    }
   ],
   "source": [
    "os.path.exists(\"data/using/\")"
   ]
  },
  {
   "cell_type": "code",
   "execution_count": 4,
   "metadata": {},
   "outputs": [],
   "source": [
    "path = \"data/using/\""
   ]
  },
  {
   "cell_type": "code",
   "execution_count": 5,
   "metadata": {},
   "outputs": [
    {
     "name": "stdout",
     "output_type": "stream",
     "text": [
      "Loaded 640 documents.\n"
     ]
    }
   ],
   "source": [
    "faiss_store = FaissStore(documents_path = path)\n",
    "nodes = faiss_store.get_nodes()"
   ]
  },
  {
   "cell_type": "code",
   "execution_count": 6,
   "metadata": {},
   "outputs": [
    {
     "name": "stdout",
     "output_type": "stream",
     "text": [
      "Successfully initialized for 2805 nodes.\n"
     ]
    }
   ],
   "source": [
    "store = Retriever(nodes=nodes)\n",
    "retriever = store.get_retriever(top_k = 7)\n",
    "context = store.get_big_context(retriever = retriever, query = \"Machine Learning\")"
   ]
  },
  {
   "cell_type": "code",
   "execution_count": 8,
   "metadata": {},
   "outputs": [
    {
     "name": "stdout",
     "output_type": "stream",
     "text": [
      "Custom LLM initialized with model: gpt-3.5-turbo\n",
      "[\n",
      "[\"Question: What are some industries where machine learning is commonly used?\",\"A. Retail\",\"B. Education\",\"C. Healthcare\",\"D. Manufacturing\",\"Answer: A. Retail, D. Manufacturing\",\"Context: Machine learning in various industries\"],\n",
      "[\"Question: How do banks use machine learning in finance?\",\"A. Credit applications\",\"B. Stock market analysis\",\"C. Crop cultivation\",\"D. Weather prediction\",\"Answer: A. Credit applications, B. Stock market analysis\",\"Context: Machine learning in finance\"],\n",
      "[\"Question: What is one of the applications of machine learning in manufacturing?\",\"A. Troubleshooting\",\"B. Animal husbandry\",\"C. Advertising\",\"D. Fashion design\",\"Answer: A. Troubleshooting\",\"Context: Machine learning in manufacturing\"],\n",
      "[\"Question: In which field does machine learning aid in medical diagnosis?\",\"A. Psychology\",\"B. Neurology\",\"C. Radiology\",\"D. Optometry\",\"Answer: C. Radiology\",\"Context: Machine learning in medicine\"],\n",
      "[\"Question: How do telecommunications companies benefit from machine learning?\",\"A. Analyzing call patterns\",\"B. Managing social media\",\"C. Creating video games\",\"D. Building websites\",\"Answer: A. Analyzing call patterns\",\"Context: Machine learning in telecommunications\"],\n",
      "[\"Question: What aspect of science utilizes machine learning for data analysis?\",\"A. Chemistry\",\"B. Biology\",\"C. Geology\",\"D. Meteorology\",\"Answer: B. Biology\",\"Context: Machine learning in science\"],\n",
      "[\"Question: What is an essential role of machine learning in artificial intelligence?\",\"A. Processing speed\",\"B. Memory capacity\",\"C. Learning and adapting\",\"D. Energy efficiency\",\"Answer: C. Learning and adapting\",\"Context: Machine learning and artificial intelligence\"],\n",
      "[\"Question: What is the core task in machine learning involving statistical theory?\",\"A. Data visualization\",\"B. Inference from samples\",\"C. Social media marketing\",\"D. Website development\",\"Answer: B. Inference from samples\",\"Context: Statistical theory in machine learning\"],\n",
      "[\"Question: What is the application of machine learning to large databases known as?\",\"A. Data manipulation\",\"B. Data mining\",\"C. Data visualization\",\"D. Data encryption\",\"Answer: B. Data mining\",\"Context: Machine learning in large databases\"],\n",
      "[\"Question: What is learning often referred to as in statistics?\",\"A. Estimation\",\"B. Calculation\",\"C. Graphing\",\"D. Prediction\",\"Answer: A. Estimation\",\"Context: Learning in statistics\"]\n",
      "]\n"
     ]
    }
   ],
   "source": [
    "llm = TeacherBot()\n",
    "respond = llm.create_question(context = context)"
   ]
  },
  {
   "cell_type": "code",
   "execution_count": 9,
   "metadata": {},
   "outputs": [
    {
     "name": "stdout",
     "output_type": "stream",
     "text": [
      "Machine learning is a versatile tool used in various industries such as retail, finance, manufacturing, medicine, telecommunications, and science. In finance, banks utilize machine learning for credit applications, fraud detection, and stock market analysis. In manufacturing, learning models are applied for optimization, control, and troubleshooting. In medicine, machine learning aids in medical diagnosis. Telecommunications companies analyze call patterns for network optimization and service quality improvement. In science, computers are essential for analyzing vast amounts of data in physics, astronomy, and biology. The World Wide Web's continuous growth necessitates automated information retrieval. Machine learning is not solely a database issue but also a component of artificial intelligence, enabling systems to learn and adapt to changing environments. It plays a crucial role in pattern recognition, vision, speech recognition, and robotics. Machine learning involves programming computers to optimize performance criteria using example data or past experiences. Statistical theory underpins the construction of mathematical models, with the core task being inference from samples. The training process requires efficient algorithms, and the application of machine learning to large databases is known as data mining. The methods discussed in subsequent chapters have diverse origins, with learning often referred to as estimation in statistics.\n"
     ]
    }
   ],
   "source": [
    "print(context)"
   ]
  },
  {
   "cell_type": "code",
   "execution_count": 22,
   "metadata": {},
   "outputs": [
    {
     "name": "stdout",
     "output_type": "stream",
     "text": [
      "#######Question: What are some industries where machine learning is commonly used?\n",
      "\n",
      "A. Retail\n",
      "\n",
      "B. Education\n",
      "\n",
      "C. Healthcare\n",
      "\n",
      "D. Manufacturing\n",
      "\n",
      ":green[Answer: A. Retail, D. Manufacturing]\n",
      "\n",
      ":green[Context: Machine learning in various industries]\n",
      "\n",
      "#######Question: How do banks use machine learning in finance?\n",
      "\n",
      "A. Credit applications\n",
      "\n",
      "B. Stock market analysis\n",
      "\n",
      "C. Crop cultivation\n",
      "\n",
      "D. Weather prediction\n",
      "\n",
      ":green[Answer: A. Credit applications, B. Stock market analysis]\n",
      "\n",
      ":green[Context: Machine learning in finance]\n",
      "\n",
      "#######Question: What is one of the applications of machine learning in manufacturing?\n",
      "\n",
      "A. Troubleshooting\n",
      "\n",
      "B. Animal husbandry\n",
      "\n",
      "C. Advertising\n",
      "\n",
      "D. Fashion design\n",
      "\n",
      ":green[Answer: A. Troubleshooting]\n",
      "\n",
      ":green[Context: Machine learning in manufacturing]\n",
      "\n",
      "#######Question: In which field does machine learning aid in medical diagnosis?\n",
      "\n",
      "A. Psychology\n",
      "\n",
      "B. Neurology\n",
      "\n",
      "C. Radiology\n",
      "\n",
      "D. Optometry\n",
      "\n",
      ":green[Answer: C. Radiology]\n",
      "\n",
      ":green[Context: Machine learning in medicine]\n",
      "\n",
      "#######Question: How do telecommunications companies benefit from machine learning?\n",
      "\n",
      "A. Analyzing call patterns\n",
      "\n",
      "B. Managing social media\n",
      "\n",
      "C. Creating video games\n",
      "\n",
      "D. Building websites\n",
      "\n",
      ":green[Answer: A. Analyzing call patterns]\n",
      "\n",
      ":green[Context: Machine learning in telecommunications]\n",
      "\n",
      "#######Question: What aspect of science utilizes machine learning for data analysis?\n",
      "\n",
      "A. Chemistry\n",
      "\n",
      "B. Biology\n",
      "\n",
      "C. Geology\n",
      "\n",
      "D. Meteorology\n",
      "\n",
      ":green[Answer: B. Biology]\n",
      "\n",
      ":green[Context: Machine learning in science]\n",
      "\n",
      "#######Question: What is an essential role of machine learning in artificial intelligence?\n",
      "\n",
      "A. Processing speed\n",
      "\n",
      "B. Memory capacity\n",
      "\n",
      "C. Learning and adapting\n",
      "\n",
      "D. Energy efficiency\n",
      "\n",
      ":green[Answer: C. Learning and adapting]\n",
      "\n",
      ":green[Context: Machine learning and artificial intelligence]\n",
      "\n",
      "#######Question: What is the core task in machine learning involving statistical theory?\n",
      "\n",
      "A. Data visualization\n",
      "\n",
      "B. Inference from samples\n",
      "\n",
      "C. Social media marketing\n",
      "\n",
      "D. Website development\n",
      "\n",
      ":green[Answer: B. Inference from samples]\n",
      "\n",
      ":green[Context: Statistical theory in machine learning]\n",
      "\n",
      "#######Question: What is the application of machine learning to large databases known as?\n",
      "\n",
      "A. Data manipulation\n",
      "\n",
      "B. Data mining\n",
      "\n",
      "C. Data visualization\n",
      "\n",
      "D. Data encryption\n",
      "\n",
      ":green[Answer: B. Data mining]\n",
      "\n",
      ":green[Context: Machine learning in large databases]\n",
      "\n",
      "#######Question: What is learning often referred to as in statistics?\n",
      "\n",
      "A. Estimation\n",
      "\n",
      "B. Calculation\n",
      "\n",
      "C. Graphing\n",
      "\n",
      "D. Prediction\n",
      "\n",
      ":green[Answer: A. Estimation]\n",
      "\n",
      ":green[Context: Learning in statistics]\n",
      "\n"
     ]
    }
   ],
   "source": [
    "for i in range(len(respond)):\n",
    "\tfor j in range(len(respond[i])):\n",
    "\t\tif j == 0:\n",
    "\t\t\trespond[i][0] = \"###\" + respond[i][0]\n",
    "\t\tif j == 5:\n",
    "\t\t\trespond[i][5] = \":green[\" + respond[i][5] + \"]\"\n",
    "\t\tif j == 6:\n",
    "\t\t\trespond[i][6] = \":green[\" + respond[i][6] + \"]\"\n",
    "\n",
    "for i in range(len(respond)):\n",
    "\tfor j in range(len(respond[i])):\n",
    "\t\tprint(respond[i][j] + \"\\n\")"
   ]
  }
 ],
 "metadata": {
  "kernelspec": {
   "display_name": "rag",
   "language": "python",
   "name": "python3"
  },
  "language_info": {
   "codemirror_mode": {
    "name": "ipython",
    "version": 3
   },
   "file_extension": ".py",
   "mimetype": "text/x-python",
   "name": "python",
   "nbconvert_exporter": "python",
   "pygments_lexer": "ipython3",
   "version": "3.12.7"
  }
 },
 "nbformat": 4,
 "nbformat_minor": 2
}
