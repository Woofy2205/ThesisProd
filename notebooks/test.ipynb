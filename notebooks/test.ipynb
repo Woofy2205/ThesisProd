{
 "cells": [
  {
   "cell_type": "code",
   "execution_count": 1,
   "metadata": {
    "vscode": {
     "languageId": "powershell"
    }
   },
   "outputs": [
    {
     "name": "stdout",
     "output_type": "stream",
     "text": [
      "d:\\Project\\ThesisProd\n"
     ]
    }
   ],
   "source": [
    "cd .."
   ]
  },
  {
   "cell_type": "code",
   "execution_count": 2,
   "metadata": {},
   "outputs": [],
   "source": [
    "import os\n",
    "import sys\n",
    "\n",
    "from dotenv import load_dotenv\n",
    "from core.retriever.Retriever import Retriever\n",
    "from core.ingestion.preprocessing.storage.FaissStore import FaissStore\n",
    "from core.llm.TeacherLLM import TeacherBot\n",
    "from core.llm.AssistantLLM import AssistantBot\n",
    "\n",
    "# Load environment variables from a .env file\n",
    "load_dotenv()\n",
    "# Set the OpenAI API key environment variable\n",
    "os.environ[\"OPENAI_API_KEY\"] = os.getenv('OPENAI_API_KEY')"
   ]
  },
  {
   "cell_type": "code",
   "execution_count": 3,
   "metadata": {},
   "outputs": [
    {
     "data": {
      "text/plain": [
       "True"
      ]
     },
     "execution_count": 3,
     "metadata": {},
     "output_type": "execute_result"
    }
   ],
   "source": [
    "os.path.exists(\"data/using/\")"
   ]
  },
  {
   "cell_type": "code",
   "execution_count": 4,
   "metadata": {},
   "outputs": [],
   "source": [
    "path = \"data/using/\""
   ]
  },
  {
   "cell_type": "code",
   "execution_count": 5,
   "metadata": {},
   "outputs": [
    {
     "name": "stdout",
     "output_type": "stream",
     "text": [
      "Loaded 640 documents.\n"
     ]
    }
   ],
   "source": [
    "faiss_store = FaissStore(documents_path = path)\n",
    "nodes = faiss_store.get_nodes()"
   ]
  },
  {
   "cell_type": "code",
   "execution_count": 6,
   "metadata": {},
   "outputs": [
    {
     "name": "stdout",
     "output_type": "stream",
     "text": [
      "Successfully initialized for 2805 nodes.\n"
     ]
    }
   ],
   "source": [
    "store = Retriever(nodes=nodes)\n",
    "retriever = store.get_retriever(top_k = 7)\n",
    "context = store.get_big_context(retriever = retriever, query = \"Machine Learning\")"
   ]
  },
  {
   "cell_type": "code",
   "execution_count": 7,
   "metadata": {},
   "outputs": [
    {
     "name": "stdout",
     "output_type": "stream",
     "text": [
      "Custom LLM initialized with model: gpt-3.5-turbo\n",
      "[\n",
      "[\"Question: What is one of the examples mentioned in the text where machine learning is used?\",\"A. Retail\",\"B. Education\",\"C. Agriculture\",\"D. Finance\",\"Answer: D. \"],\n",
      "[\"Question: Why is it mentioned that manual analysis of data is no longer feasible by people?\",\"A. Data is small\",\"B. People are rare\",\"C. Analysis is easy\",\"D. Costly\",\"Answer: D. \"],\n",
      "[\"Question: What is the core task in machine learning according to the text?\",\"A. Making predictions\",\"B. Building databases\",\"C. Writing programs\",\"D. Making inferences\",\"Answer: A. \"],\n",
      "[\"Question: What kind of models are defined in machine learning?\",\"A. Predictive\",\"B. Descriptive\",\"C. Both\",\"D. None\",\"Answer: C. \"],\n",
      "[\"Question: What is the use of statistics in machine learning?\",\"A. Building mathematical models\",\"B. Building physical models\",\"C. Building chemical models\",\"D. Building biological models\",\"Answer: A. \"],\n",
      "[\"Question: How is the ability to recognize faces described in the text?\",\"A. Unconscious\",\"B. Conscious\",\"C. Random\",\"D. Predictive\",\"Answer: A. \"],\n",
      "[\"Question: Why is there a growing interest in computer models for data analysis?\",\"A. Data is small\",\"B. People are abundant\",\"C. Manual analysis is easy\",\"D. Data is huge\",\"Answer: D. \"],\n",
      "[\"Question: What is the niche of machine learning according to the text?\",\"A. Understanding the process\",\"B. Building databases\",\"C. Making predictions\",\"D. Making inferences\",\"Answer: A. \"],\n",
      "[\"Question: What is the application of machine learning methods to large databases called?\",\"A. Data analysis\",\"B. Data interpretation\",\"C. Data mining\",\"D. Data visualization\",\"Answer: C. \"],\n",
      "[\"Question: What is the role of computer science in machine learning according to the text?\",\"A. Training\",\"B. Designing models\",\"C. Building databases\",\"D. Making inferences\",\"Answer: A. \"]\n",
      "]\n"
     ]
    }
   ],
   "source": [
    "llm = TeacherBot()\n",
    "respond = llm.create_question(context = context)"
   ]
  },
  {
   "cell_type": "code",
   "execution_count": 9,
   "metadata": {},
   "outputs": [
    {
     "name": "stdout",
     "output_type": "stream",
     "text": [
      "Question: What is one of the examples mentioned in the text where machine learning is used?\n",
      "\n",
      "A. Retail\n",
      "\n",
      "B. Education\n",
      "\n",
      "C. Agriculture\n",
      "\n",
      "D. Finance\n",
      "\n",
      "Answer: D. \n",
      "\n",
      "Question: Why is it mentioned that manual analysis of data is no longer feasible by people?\n",
      "\n",
      "A. Data is small\n",
      "\n",
      "B. People are rare\n",
      "\n",
      "C. Analysis is easy\n",
      "\n",
      "D. Costly\n",
      "\n",
      "Answer: D. \n",
      "\n",
      "Question: What is the core task in machine learning according to the text?\n",
      "\n",
      "A. Making predictions\n",
      "\n",
      "B. Building databases\n",
      "\n",
      "C. Writing programs\n",
      "\n",
      "D. Making inferences\n",
      "\n",
      "Answer: A. \n",
      "\n",
      "Question: What kind of models are defined in machine learning?\n",
      "\n",
      "A. Predictive\n",
      "\n",
      "B. Descriptive\n",
      "\n",
      "C. Both\n",
      "\n",
      "D. None\n",
      "\n",
      "Answer: C. \n",
      "\n",
      "Question: What is the use of statistics in machine learning?\n",
      "\n",
      "A. Building mathematical models\n",
      "\n",
      "B. Building physical models\n",
      "\n",
      "C. Building chemical models\n",
      "\n",
      "D. Building biological models\n",
      "\n",
      "Answer: A. \n",
      "\n",
      "Question: How is the ability to recognize faces described in the text?\n",
      "\n",
      "A. Unconscious\n",
      "\n",
      "B. Conscious\n",
      "\n",
      "C. Random\n",
      "\n",
      "D. Predictive\n",
      "\n",
      "Answer: A. \n",
      "\n",
      "Question: Why is there a growing interest in computer models for data analysis?\n",
      "\n",
      "A. Data is small\n",
      "\n",
      "B. People are abundant\n",
      "\n",
      "C. Manual analysis is easy\n",
      "\n",
      "D. Data is huge\n",
      "\n",
      "Answer: D. \n",
      "\n",
      "Question: What is the niche of machine learning according to the text?\n",
      "\n",
      "A. Understanding the process\n",
      "\n",
      "B. Building databases\n",
      "\n",
      "C. Making predictions\n",
      "\n",
      "D. Making inferences\n",
      "\n",
      "Answer: A. \n",
      "\n",
      "Question: What is the application of machine learning methods to large databases called?\n",
      "\n",
      "A. Data analysis\n",
      "\n",
      "B. Data interpretation\n",
      "\n",
      "C. Data mining\n",
      "\n",
      "D. Data visualization\n",
      "\n",
      "Answer: C. \n",
      "\n",
      "Question: What is the role of computer science in machine learning according to the text?\n",
      "\n",
      "A. Training\n",
      "\n",
      "B. Designing models\n",
      "\n",
      "C. Building databases\n",
      "\n",
      "D. Making inferences\n",
      "\n",
      "Answer: A. \n",
      "\n"
     ]
    }
   ],
   "source": [
    "for i in range(len(respond)):\n",
    "\tfor j in range(len(respond[i])):\n",
    "\t\tprint(respond[i][j] + \"\\n\")"
   ]
  }
 ],
 "metadata": {
  "kernelspec": {
   "display_name": "rag",
   "language": "python",
   "name": "python3"
  },
  "language_info": {
   "codemirror_mode": {
    "name": "ipython",
    "version": 3
   },
   "file_extension": ".py",
   "mimetype": "text/x-python",
   "name": "python",
   "nbconvert_exporter": "python",
   "pygments_lexer": "ipython3",
   "version": "3.12.7"
  }
 },
 "nbformat": 4,
 "nbformat_minor": 2
}
