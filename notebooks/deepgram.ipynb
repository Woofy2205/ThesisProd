{
 "cells": [
  {
   "cell_type": "code",
   "execution_count": 1,
   "metadata": {},
   "outputs": [],
   "source": [
    "from deepgram import DeepgramClient, PrerecordedOptions, FileSource\n",
    "import requests"
   ]
  },
  {
   "cell_type": "code",
   "execution_count": 3,
   "metadata": {},
   "outputs": [
    {
     "name": "stdout",
     "output_type": "stream",
     "text": [
      "[youtube] Extracting URL: https://www.youtube.com/watch?v=PeMlggyqz0Y\n",
      "[youtube] PeMlggyqz0Y: Downloading webpage\n",
      "[youtube] PeMlggyqz0Y: Downloading tv client config\n",
      "[youtube] PeMlggyqz0Y: Downloading player c8dbda2a\n",
      "[youtube] PeMlggyqz0Y: Downloading tv player API JSON\n",
      "[youtube] PeMlggyqz0Y: Downloading ios player API JSON\n",
      "[youtube] PeMlggyqz0Y: Downloading m3u8 information\n",
      "[info] PeMlggyqz0Y: Downloading 1 format(s): 18\n",
      "[download] Destination: d:\\Project\\ThesisProd\\notebooks\\Downloads\\Machine Learning Explained in 100 Seconds.mp4\n",
      "[download] 100% of    3.99MiB in 00:00:00 at 6.62MiB/s     \n"
     ]
    }
   ],
   "source": [
    "import os\n",
    "import yt_dlp as youtube_dl\n",
    "\n",
    "SAVE_PATH = '/'.join(os.getcwd().split('/')[:3]) + '/Downloads'\n",
    "\n",
    "ydl_opts = {\n",
    "  'format': 'best',\n",
    "  'outtmpl': SAVE_PATH + '/%(title)s.%(ext)s',\n",
    "  'noplaylist': True,\n",
    "  'extract-audio': True,\n",
    "}\n",
    "\n",
    "video = \"https://www.youtube.com/watch?v=PeMlggyqz0Y\"\n",
    "with youtube_dl.YoutubeDL(ydl_opts) as ydl:\n",
    "  info_dict = ydl.extract_info(video, download=True)\n",
    "  video_url = info_dict.get(\"url\", None)\n",
    "  video_title = info_dict.get('title', None)\n",
    "  video_length = info_dict.get('duration')"
   ]
  },
  {
   "cell_type": "code",
   "execution_count": 7,
   "metadata": {},
   "outputs": [
    {
     "name": "stdout",
     "output_type": "stream",
     "text": [
      "Currently transcribing  Downloads/Machine Learning Explained in 100 Seconds.mp4\n"
     ]
    },
    {
     "ename": "AttributeError",
     "evalue": "'DeepgramClient' object has no attribute 'transcription'",
     "output_type": "error",
     "traceback": [
      "\u001b[1;31m---------------------------------------------------------------------------\u001b[0m",
      "\u001b[1;31mAttributeError\u001b[0m                            Traceback (most recent call last)",
      "Cell \u001b[1;32mIn[7], line 14\u001b[0m\n\u001b[0;32m     12\u001b[0m \u001b[38;5;28;01mwith\u001b[39;00m \u001b[38;5;28mopen\u001b[39m(FILENAME, \u001b[38;5;124m'\u001b[39m\u001b[38;5;124mrb\u001b[39m\u001b[38;5;124m'\u001b[39m) \u001b[38;5;28;01mas\u001b[39;00m audio: \n\u001b[0;32m     13\u001b[0m \tsource \u001b[38;5;241m=\u001b[39m {\u001b[38;5;124m'\u001b[39m\u001b[38;5;124mbuffer\u001b[39m\u001b[38;5;124m'\u001b[39m: audio, \u001b[38;5;124m'\u001b[39m\u001b[38;5;124mmimetype\u001b[39m\u001b[38;5;124m'\u001b[39m: \u001b[38;5;124m'\u001b[39m\u001b[38;5;124maudio/mp3\u001b[39m\u001b[38;5;124m'\u001b[39m} \n\u001b[1;32m---> 14\u001b[0m \tresponse \u001b[38;5;241m=\u001b[39m \u001b[38;5;28;01mawait\u001b[39;00m \u001b[43mdeepgram\u001b[49m\u001b[38;5;241;43m.\u001b[39;49m\u001b[43mtranscription\u001b[49m\u001b[38;5;241m.\u001b[39mprerecorded(source, PARAMS) \n\u001b[0;32m     15\u001b[0m \tjson_object \u001b[38;5;241m=\u001b[39m json\u001b[38;5;241m.\u001b[39mdumps(response, indent\u001b[38;5;241m=\u001b[39m\u001b[38;5;241m4\u001b[39m) \n\u001b[0;32m     17\u001b[0m     \u001b[38;5;66;03m# write results \u001b[39;00m\n",
      "\u001b[1;31mAttributeError\u001b[0m: 'DeepgramClient' object has no attribute 'transcription'"
     ]
    }
   ],
   "source": [
    "from deepgram import Deepgram\n",
    "import asyncio, json\n",
    "\n",
    "DEEPGRAM_API_KEY = '96502a18991f421331204e5231f8ffbb18687122' \n",
    "FILENAME = \"Downloads/Machine Learning Explained in 100 Seconds.mp4\" \n",
    "PARAMS = {'punctuate': True,'tier': 'enhanced'} \n",
    "\n",
    "\n",
    "deepgram = DeepgramClient(DEEPGRAM_API_KEY) \n",
    "print(\"Currently transcribing \", FILENAME) \n",
    "\n",
    "with open(FILENAME, 'rb') as audio: \n",
    "\tsource = {'buffer': audio, 'mimetype': 'audio/mp3'} \n",
    "\tresponse = await deepgram.transcription.prerecorded(source, PARAMS) \n",
    "\tjson_object = json.dumps(response, indent=4) \n",
    "    \n",
    "    # write results \n",
    "\ttranscrption_file = './' + FILENAME[:-4] + '.json' \n",
    "    \n",
    "\twith open(transcrption_file, \"w\") as outfile: \n",
    "\t\toutfile.write(json_object) \n",
    "\t\tprint(\"Bag secured \") \n",
    "    "
   ]
  },
  {
   "cell_type": "code",
   "execution_count": null,
   "metadata": {},
   "outputs": [
    {
     "name": "stdout",
     "output_type": "stream",
     "text": [
      "Exception: [Errno 22] Invalid argument: 'https://static.deepgram.com/examples/nasa-spacewalk-interview.wav'\n"
     ]
    }
   ],
   "source": [
    "from deepgram import DeepgramClient, PrerecordedOptions, FileSource\n",
    "import requests\n",
    "\n",
    "# Deepgram API key\n",
    "DG_KEY = \"96502a18991f421331204e5231f8ffbb18687122\"\n",
    "\n",
    "# URL of the audio file\n",
    "AUDIO_FILE = \"Downloads/Machine Learning Explained in 100 Seconds.mp4\"\n",
    "\n",
    "# Path to save the transcript JSON file\n",
    "TRANSCRIPT_FILE = \"transcript.json\"\n",
    "\n",
    "def main():\n",
    "    try:\n",
    "        # STEP 1: Create a Deepgram client using the API key\n",
    "        deepgram = DeepgramClient(DG_KEY)\n",
    "\n",
    "        # Download the audio file from the URL\n",
    "        with open(AUDIO_FILE, \"rb\") as file:\n",
    "        \tbuffer_data = file.read()\n",
    "\n",
    "        payload: FileSource = {\n",
    "            \"buffer\": buffer_data,\n",
    "        }\n",
    "\n",
    "        # STEP 2: Configure Deepgram options for audio analysis\n",
    "        options = PrerecordedOptions(\n",
    "            model=\"nova-2\",\n",
    "            smart_format=True,\n",
    "        )\n",
    "\n",
    "        # STEP 3: Call the transcribe_file method with the text payload and options\n",
    "        response = deepgram.listen.prerecorded.v(\"1\").transcribe_file(payload, options)\n",
    "\n",
    "        # STEP 4: Write the response JSON to a file\n",
    "        with open(TRANSCRIPT_FILE, \"w\") as transcript_file:\n",
    "            transcript_file.write(response.to_json(indent=4))\n",
    "\n",
    "        print(\"Transcript JSON file generated successfully.\")\n",
    "\n",
    "    except Exception as e:\n",
    "        print(f\"Exception: {e}\")\n",
    "\n",
    "if __name__ == \"__main__\":\n",
    "    main()"
   ]
  },
  {
   "cell_type": "code",
   "execution_count": 6,
   "metadata": {},
   "outputs": [
    {
     "data": {
      "text/plain": [
       "True"
      ]
     },
     "execution_count": 6,
     "metadata": {},
     "output_type": "execute_result"
    }
   ],
   "source": [
    "os.path.exists(\"Downloads/Machine Learning Explained in 100 Seconds.mp4\")"
   ]
  }
 ],
 "metadata": {
  "kernelspec": {
   "display_name": "rag",
   "language": "python",
   "name": "python3"
  },
  "language_info": {
   "codemirror_mode": {
    "name": "ipython",
    "version": 3
   },
   "file_extension": ".py",
   "mimetype": "text/x-python",
   "name": "python",
   "nbconvert_exporter": "python",
   "pygments_lexer": "ipython3",
   "version": "3.12.7"
  }
 },
 "nbformat": 4,
 "nbformat_minor": 2
}
