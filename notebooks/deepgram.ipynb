{
 "cells": [
  {
   "cell_type": "code",
   "execution_count": null,
   "metadata": {},
   "outputs": [],
   "source": [
    "from deepgram import DeepgramClient, PrerecordedOptions, FileSource\n",
    "import requests\n",
    "\n",
    "import os\n",
    "from dotenv import load_dotenv\n",
    "import yt_dlp as youtube_dl"
   ]
  },
  {
   "cell_type": "code",
   "execution_count": 2,
   "metadata": {},
   "outputs": [
    {
     "ename": "NameError",
     "evalue": "name 'load_dotenv' is not defined",
     "output_type": "error",
     "traceback": [
      "\u001b[1;31m---------------------------------------------------------------------------\u001b[0m",
      "\u001b[1;31mNameError\u001b[0m                                 Traceback (most recent call last)",
      "Cell \u001b[1;32mIn[2], line 1\u001b[0m\n\u001b[1;32m----> 1\u001b[0m \u001b[43mload_dotenv\u001b[49m()\n\u001b[0;32m      3\u001b[0m \u001b[38;5;66;03m#mp4 directory\u001b[39;00m\n\u001b[0;32m      4\u001b[0m SAVE_DIR \u001b[38;5;241m=\u001b[39m \u001b[38;5;124m'\u001b[39m\u001b[38;5;124m/\u001b[39m\u001b[38;5;124m'\u001b[39m\u001b[38;5;241m.\u001b[39mjoin(os\u001b[38;5;241m.\u001b[39mgetcwd()\u001b[38;5;241m.\u001b[39msplit(\u001b[38;5;124m'\u001b[39m\u001b[38;5;124m/\u001b[39m\u001b[38;5;124m'\u001b[39m)[:\u001b[38;5;241m3\u001b[39m]) \u001b[38;5;241m+\u001b[39m \u001b[38;5;124m'\u001b[39m\u001b[38;5;124m/speechdir\u001b[39m\u001b[38;5;124m'\u001b[39m\n",
      "\u001b[1;31mNameError\u001b[0m: name 'load_dotenv' is not defined"
     ]
    }
   ],
   "source": [
    "load_dotenv()\n",
    "\n",
    "#mp4 directory\n",
    "SAVE_DIR = '/'.join(os.getcwd().split('/')[:3]) + '/speechdir'\n",
    "# Deepgram API key\n",
    "DG_KEY = os.getenv('DEEPGRAM_API_KEY')\n",
    "\n",
    "AUDIO_PATH = SAVE_DIR + '/audio_cont'\n",
    "\n",
    "\n",
    "ydl_opts = {\n",
    "  'format': 'best',\n",
    "  'outtmpl': AUDIO_PATH + '/%(title)s.%(ext)s',\n",
    "  'noplaylist': True,\n",
    "  'extract-audio': True,\n",
    "}\n",
    "\n",
    "video = \"https://www.youtube.com/watch?v=PeMlggyqz0Y\""
   ]
  },
  {
   "cell_type": "code",
   "execution_count": null,
   "metadata": {},
   "outputs": [],
   "source": [
    "def process_download(video_url: str = None, ydl_opts: dict = ydl_opts):\n",
    "    #if in SAVE_PATH have another file, delete it to be empty\n",
    "\tif os.path.exists(AUDIO_PATH):\n",
    "\t\tfor file in os.listdir(AUDIO_PATH):\n",
    "\t\t\tos.remove(AUDIO_PATH + '/' + file)\n",
    "\twith youtube_dl.YoutubeDL(ydl_opts) as ydl:\n",
    "\t\tinfo_dict = ydl.extract_info(video_url, download=True)\n",
    "\t\tvideo_url = info_dict.get(\"url\", None)\n",
    "\t\tvideo_title = info_dict.get('title', None)\n",
    "\t\tvideo_length = info_dict.get('duration')\n",
    "\treturn video_title, video_length"
   ]
  },
  {
   "cell_type": "code",
   "execution_count": null,
   "metadata": {},
   "outputs": [],
   "source": [
    "video_title, video_length = process_download(video, ydl_opts)"
   ]
  },
  {
   "cell_type": "code",
   "execution_count": null,
   "metadata": {},
   "outputs": [],
   "source": [
    "JSON_PATH = SAVE_DIR + '/json_cont'\n",
    "# URL of the audio file\n",
    "AUDIO_FILE = AUDIO_PATH + '/' + video_title + '.mp4'\n",
    "# Path to save the transcript JSON file\n",
    "TRANSCRIPT_FILE = JSON_PATH + '/' + video_title + '.json'"
   ]
  },
  {
   "cell_type": "code",
   "execution_count": null,
   "metadata": {},
   "outputs": [],
   "source": [
    "def transcript():\n",
    "    try:\n",
    "        # STEP 1: Create a Deepgram client using the API key\n",
    "        deepgram = DeepgramClient(DG_KEY)\n",
    "\n",
    "        # Download the audio file from the URL\n",
    "        if os.path.exists(JSON_PATH):\n",
    "            for file in os.listdir(JSON_PATH):\n",
    "                os.remove(JSON_PATH + '/' + file)\n",
    "\n",
    "        with open(AUDIO_FILE, \"rb\") as file:\n",
    "            buffer_data = file.read()\n",
    "\n",
    "        payload: FileSource = {\n",
    "            \"buffer\": buffer_data,\n",
    "        }\n",
    "\n",
    "        # STEP 2: Configure Deepgram options for audio analysis\n",
    "        options = PrerecordedOptions(\n",
    "            model=\"nova-2\",\n",
    "            smart_format=True,\n",
    "        )\n",
    "\n",
    "        # STEP 3: Call the transcribe_file method with the text payload and options\n",
    "        response = deepgram.listen.prerecorded.v(\"1\").transcribe_file(payload, options)\n",
    "\n",
    "        # STEP 4: Write the response JSON to a file\n",
    "        with open(TRANSCRIPT_FILE, \"w\") as transcript_file:\n",
    "            transcript_file.write(response.to_json(indent=4))\n",
    "\n",
    "        print(\"Transcript JSON file generated successfully.\")\n",
    "\n",
    "    except Exception as e:\n",
    "        print(f\"Exception: {e}\")"
   ]
  },
  {
   "cell_type": "code",
   "execution_count": null,
   "metadata": {},
   "outputs": [],
   "source": [
    "transcript()"
   ]
  },
  {
   "cell_type": "code",
   "execution_count": null,
   "metadata": {},
   "outputs": [],
   "source": [
    "import json\n",
    "def print_transcript(transcription_file: str = None):\n",
    "  with open(transcription_file, \"r\") as file:\n",
    "        data = json.load(file)\n",
    "        result = data['results']['channels'][0]['alternatives'][0]['transcript']\n",
    "        result = result.split('.')\n",
    "        for sentence in result:\n",
    "          print(sentence + '.')"
   ]
  },
  {
   "cell_type": "code",
   "execution_count": null,
   "metadata": {},
   "outputs": [],
   "source": [
    "print_transcript(JSON_PATH + '/' + video_title + '.json')"
   ]
  },
  {
   "cell_type": "code",
   "execution_count": null,
   "metadata": {},
   "outputs": [],
   "source": [
    "os.path.exists(\"Downloads/Machine Learning Explained in 100 Seconds.mp4\")"
   ]
  }
 ],
 "metadata": {
  "kernelspec": {
   "display_name": "rag",
   "language": "python",
   "name": "python3"
  },
  "language_info": {
   "codemirror_mode": {
    "name": "ipython",
    "version": 3
   },
   "file_extension": ".py",
   "mimetype": "text/x-python",
   "name": "python",
   "nbconvert_exporter": "python",
   "pygments_lexer": "ipython3",
   "version": "3.12.7"
  }
 },
 "nbformat": 4,
 "nbformat_minor": 2
}
